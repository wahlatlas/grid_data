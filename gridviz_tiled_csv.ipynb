{
 "cells": [
  {
   "cell_type": "markdown",
   "id": "5844e53f-c747-491f-b4e7-6b525ece8d88",
   "metadata": {},
   "source": [
    "# Tiling csv-files for GridViz  \n",
    "see file format specification at  \n",
    "https://eurostat.github.io/gridviz/docs/tiledformat.html"
   ]
  },
  {
   "cell_type": "code",
   "execution_count": 1,
   "id": "a38583b3-f8d2-4125-87df-5e68902d1361",
   "metadata": {},
   "outputs": [],
   "source": [
    "import pandas as pd\n",
    "import math\n",
    "import os\n",
    "pd.options.mode.chained_assignment = None"
   ]
  },
  {
   "cell_type": "code",
   "execution_count": 2,
   "id": "8c9277e7-d1cd-4139-b995-51551a54dd9f",
   "metadata": {},
   "outputs": [],
   "source": [
    "griddf = pd.read_csv(\"whgHeizTyp100m2011lowerleft00.csv\")"
   ]
  },
  {
   "cell_type": "code",
   "execution_count": 3,
   "id": "0e3686fb-9ba6-4693-b14d-c80a56d32b32",
   "metadata": {},
   "outputs": [
    {
     "data": {
      "text/html": [
       "<div>\n",
       "<style scoped>\n",
       "    .dataframe tbody tr th:only-of-type {\n",
       "        vertical-align: middle;\n",
       "    }\n",
       "\n",
       "    .dataframe tbody tr th {\n",
       "        vertical-align: top;\n",
       "    }\n",
       "\n",
       "    .dataframe thead th {\n",
       "        text-align: right;\n",
       "    }\n",
       "</style>\n",
       "<table border=\"1\" class=\"dataframe\">\n",
       "  <thead>\n",
       "    <tr style=\"text-align: right;\">\n",
       "      <th></th>\n",
       "      <th>x</th>\n",
       "      <th>y</th>\n",
       "      <th>Insg</th>\n",
       "      <th>fernw</th>\n",
       "      <th>etagen</th>\n",
       "      <th>zentral</th>\n",
       "    </tr>\n",
       "  </thead>\n",
       "  <tbody>\n",
       "    <tr>\n",
       "      <th>0</th>\n",
       "      <td>4335700</td>\n",
       "      <td>2686500</td>\n",
       "      <td>3</td>\n",
       "      <td>NaN</td>\n",
       "      <td>NaN</td>\n",
       "      <td>3.0</td>\n",
       "    </tr>\n",
       "    <tr>\n",
       "      <th>1</th>\n",
       "      <td>4337000</td>\n",
       "      <td>2689100</td>\n",
       "      <td>3</td>\n",
       "      <td>NaN</td>\n",
       "      <td>NaN</td>\n",
       "      <td>NaN</td>\n",
       "    </tr>\n",
       "    <tr>\n",
       "      <th>2</th>\n",
       "      <td>4341200</td>\n",
       "      <td>2691200</td>\n",
       "      <td>3</td>\n",
       "      <td>NaN</td>\n",
       "      <td>NaN</td>\n",
       "      <td>3.0</td>\n",
       "    </tr>\n",
       "  </tbody>\n",
       "</table>\n",
       "</div>"
      ],
      "text/plain": [
       "         x        y  Insg  fernw  etagen  zentral\n",
       "0  4335700  2686500     3    NaN     NaN      3.0\n",
       "1  4337000  2689100     3    NaN     NaN      NaN\n",
       "2  4341200  2691200     3    NaN     NaN      3.0"
      ]
     },
     "execution_count": 3,
     "metadata": {},
     "output_type": "execute_result"
    }
   ],
   "source": [
    "griddf.head(3)"
   ]
  },
  {
   "cell_type": "code",
   "execution_count": 4,
   "id": "5e3d80a5-44f8-4362-b36b-3372b1f20962",
   "metadata": {},
   "outputs": [],
   "source": [
    "tilingBounds= {\n",
    "        \"yMin\": griddf[\"y\"].min(),\n",
    "        \"yMax\": griddf[\"y\"].max(),\n",
    "        \"xMax\": griddf[\"x\"].max(),\n",
    "        \"xMin\": griddf[\"x\"].min()\n",
    "    }"
   ]
  },
  {
   "cell_type": "code",
   "execution_count": 5,
   "id": "91557fa8-ce84-4304-b275-926211c6aa01",
   "metadata": {},
   "outputs": [],
   "source": [
    "resolutionGeo=100"
   ]
  },
  {
   "cell_type": "code",
   "execution_count": 6,
   "id": "ddfecccc-cb78-4c50-af94-d7a12f25f359",
   "metadata": {},
   "outputs": [],
   "source": [
    "tileSizeCell=250"
   ]
  },
  {
   "cell_type": "code",
   "execution_count": 7,
   "id": "97c56c9f-5bed-463b-b3a4-0f50a7f2b608",
   "metadata": {},
   "outputs": [],
   "source": [
    "xIncrements = math.ceil((tilingBounds[\"xMax\"]-tilingBounds[\"xMin\"])/(tileSizeCell*resolutionGeo))\n",
    "yIncrements = math.ceil((tilingBounds[\"yMax\"]-tilingBounds[\"yMin\"])/(tileSizeCell*resolutionGeo))"
   ]
  },
  {
   "cell_type": "code",
   "execution_count": 8,
   "id": "2bf7f1e6-8d96-48bf-8106-9e55ee517609",
   "metadata": {},
   "outputs": [
    {
     "data": {
      "text/plain": [
       "(26, 35)"
      ]
     },
     "execution_count": 8,
     "metadata": {},
     "output_type": "execute_result"
    }
   ],
   "source": [
    "xIncrements, yIncrements"
   ]
  },
  {
   "cell_type": "code",
   "execution_count": 19,
   "id": "f8a9004c-5c14-4a4f-ab2c-48ed298894be",
   "metadata": {},
   "outputs": [],
   "source": [
    "# create numbered folders for xIncrements\n",
    "for i in range(xIncrements):\n",
    "    \n",
    "    newpath = r'./tiled_data/'+str(i) \n",
    "    if not os.path.exists(newpath):\n",
    "        os.makedirs(newpath)\n",
    "\n",
    "    # filter data on x-axis\n",
    "    tmpXdf = griddf[(griddf.x>=tilingBounds[\"xMin\"]+(i*tileSizeCell*resolutionGeo)) & \n",
    "                (griddf.x<(tilingBounds[\"xMin\"]+(i+1)*tileSizeCell*resolutionGeo))]\n",
    "        \n",
    "    # iterate over the y-axis\n",
    "    for j in range(yIncrements):\n",
    "        \n",
    "        # filter data to tile\n",
    "        tmpXYdf = tmpXdf[(tmpXdf.y>=tilingBounds[\"yMin\"]+(j*tileSizeCell*resolutionGeo)) & \n",
    "                    (tmpXdf.y<(tilingBounds[\"yMin\"]+(j+1)*tileSizeCell*resolutionGeo))]\n",
    "\n",
    "        # reduce grid coordinates to reference tile instead of originPoint\n",
    "        tmpXYdf[\"x\"] = tmpXYdf[\"x\"].apply(lambda n: (n - tilingBounds[\"xMin\"]\n",
    "                                                     - i*tileSizeCell*resolutionGeo)/resolutionGeo)\n",
    "        tmpXYdf[\"y\"] = tmpXYdf[\"y\"].apply(lambda n: (n - tilingBounds[\"yMin\"]\n",
    "                                                     - j*tileSizeCell*resolutionGeo)/resolutionGeo)\n",
    "\n",
    "        # write to csv if tile contains cells\n",
    "        if len(tmpXYdf)>0:\n",
    "            \n",
    "            tmpXYdf.to_csv(f'./tiled_data/{i}/{j}.csv', float_format='%.0f', index=False)"
   ]
  },
  {
   "cell_type": "code",
   "execution_count": null,
   "id": "b5e101ef-9280-4901-b614-03b222894ad0",
   "metadata": {},
   "outputs": [],
   "source": []
  }
 ],
 "metadata": {
  "kernelspec": {
   "display_name": "Python 3 (ipykernel)",
   "language": "python",
   "name": "python3"
  },
  "language_info": {
   "codemirror_mode": {
    "name": "ipython",
    "version": 3
   },
   "file_extension": ".py",
   "mimetype": "text/x-python",
   "name": "python",
   "nbconvert_exporter": "python",
   "pygments_lexer": "ipython3",
   "version": "3.11.3"
  }
 },
 "nbformat": 4,
 "nbformat_minor": 5
}
